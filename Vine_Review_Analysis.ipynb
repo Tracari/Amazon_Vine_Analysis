{
  "nbformat": 4,
  "nbformat_minor": 0,
  "metadata": {
    "colab": {
      "provenance": [],
      "collapsed_sections": [],
      "authorship_tag": "ABX9TyPyGVgGGiYFmcokHMxgqiYL",
      "include_colab_link": true
    },
    "kernelspec": {
      "name": "python3",
      "display_name": "Python 3"
    },
    "language_info": {
      "name": "python"
    }
  },
  "cells": [
    {
      "cell_type": "markdown",
      "metadata": {
        "id": "view-in-github",
        "colab_type": "text"
      },
      "source": [
        "<a href=\"https://colab.research.google.com/github/Tracari/Amazon_Vine_Analysis/blob/main/Vine_Review_Analysis.ipynb\" target=\"_parent\"><img src=\"https://colab.research.google.com/assets/colab-badge.svg\" alt=\"Open In Colab\"/></a>"
      ]
    },
    {
      "cell_type": "code",
      "execution_count": null,
      "metadata": {
        "colab": {
          "base_uri": "https://localhost:8080/"
        },
        "id": "TcGU09F51CbE",
        "outputId": "b4329e85-6ba8-4434-e561-a17845ae9f51"
      },
      "outputs": [
        {
          "output_type": "stream",
          "name": "stdout",
          "text": [
            "Get:1 https://cloud.r-project.org/bin/linux/ubuntu bionic-cran40/ InRelease [3,626 B]\n",
            "Ign:2 https://developer.download.nvidia.com/compute/machine-learning/repos/ubuntu1804/x86_64  InRelease\n",
            "Hit:3 https://developer.download.nvidia.com/compute/cuda/repos/ubuntu1804/x86_64  InRelease\n",
            "Hit:4 https://developer.download.nvidia.com/compute/machine-learning/repos/ubuntu1804/x86_64  Release\n",
            "Get:5 http://security.ubuntu.com/ubuntu bionic-security InRelease [88.7 kB]\n",
            "Hit:6 http://archive.ubuntu.com/ubuntu bionic InRelease\n",
            "Get:7 http://archive.ubuntu.com/ubuntu bionic-updates InRelease [88.7 kB]\n",
            "Get:8 http://ppa.launchpad.net/c2d4u.team/c2d4u4.0+/ubuntu bionic InRelease [15.9 kB]\n",
            "Get:9 https://cloud.r-project.org/bin/linux/ubuntu bionic-cran40/ Packages [91.7 kB]\n",
            "Hit:10 http://ppa.launchpad.net/cran/libgit2/ubuntu bionic InRelease\n",
            "Get:11 http://archive.ubuntu.com/ubuntu bionic-backports InRelease [74.6 kB]\n",
            "Get:12 http://ppa.launchpad.net/deadsnakes/ppa/ubuntu bionic InRelease [15.9 kB]\n",
            "Hit:14 http://ppa.launchpad.net/graphics-drivers/ppa/ubuntu bionic InRelease\n",
            "Get:15 http://ppa.launchpad.net/c2d4u.team/c2d4u4.0+/ubuntu bionic/main Sources [2,105 kB]\n",
            "Get:16 http://security.ubuntu.com/ubuntu bionic-security/universe amd64 Packages [1,540 kB]\n",
            "Get:17 http://archive.ubuntu.com/ubuntu bionic-updates/main amd64 Packages [3,396 kB]\n",
            "Get:18 http://security.ubuntu.com/ubuntu bionic-security/restricted amd64 Packages [1,131 kB]\n",
            "Get:19 http://security.ubuntu.com/ubuntu bionic-security/main amd64 Packages [2,965 kB]\n",
            "Get:20 http://ppa.launchpad.net/c2d4u.team/c2d4u4.0+/ubuntu bionic/main amd64 Packages [1,079 kB]\n",
            "Get:21 http://archive.ubuntu.com/ubuntu bionic-updates/restricted amd64 Packages [1,172 kB]\n",
            "Get:22 http://ppa.launchpad.net/deadsnakes/ppa/ubuntu bionic/main amd64 Packages [45.2 kB]\n",
            "Fetched 13.8 MB in 5s (2,846 kB/s)\n",
            "Reading package lists... Done\n"
          ]
        }
      ],
      "source": [
        "import os\n",
        "# Find the latest version of spark 3.0  from http://www.apache.org/dist/spark/ and enter as the spark version\n",
        "# For example:\n",
        "# spark_version = 'spark-3.0.3'\n",
        "spark_version = 'spark-3.2.2'\n",
        "os.environ['SPARK_VERSION']=spark_version\n",
        "\n",
        "# Install Spark and Java\n",
        "!apt-get update\n",
        "!apt-get install openjdk-11-jdk-headless -qq > /dev/null\n",
        "!wget -q http://www.apache.org/dist/spark/$SPARK_VERSION/$SPARK_VERSION-bin-hadoop2.7.tgz\n",
        "!tar xf $SPARK_VERSION-bin-hadoop2.7.tgz\n",
        "!pip install -q findspark\n",
        "\n",
        "# Set Environment Variables\n",
        "import os\n",
        "os.environ[\"JAVA_HOME\"] = \"/usr/lib/jvm/java-11-openjdk-amd64\"\n",
        "os.environ[\"SPARK_HOME\"] = f\"/content/{spark_version}-bin-hadoop2.7\"\n",
        "\n",
        "# Start a SparkSession\n",
        "import findspark\n",
        "findspark.init()\n"
      ]
    },
    {
      "cell_type": "code",
      "source": [],
      "metadata": {
        "id": "ewpmN83g1syK"
      },
      "execution_count": null,
      "outputs": []
    },
    {
      "cell_type": "code",
      "source": [
        "from pyspark.sql import SparkSession\n",
        "spark = SparkSession.builder.appName(\"M16-Amazon-Challenge\").config(\"spark.driver.extraClassPath\",\"/content/postgresql-42.2.16.jar\").getOrCreate()"
      ],
      "metadata": {
        "id": "tuSUa48p1eTB"
      },
      "execution_count": null,
      "outputs": []
    },
    {
      "cell_type": "code",
      "source": [
        "from pyspark import SparkFiles\n",
        "url = \"https://software-reviews.s3.amazonaws.com/amazon_reviews_us_Software_v1_00.tsv\"\n",
        "spark.sparkContext.addFile(url)\n",
        "df = spark.read.option(\"encoding\", \"UTF-8\").csv(SparkFiles.get(\"amazon_reviews_us_Software_v1_00.tsv\"), sep=\"\\t\", header=True, inferSchema=True)\n",
        "df.show()"
      ],
      "metadata": {
        "colab": {
          "base_uri": "https://localhost:8080/"
        },
        "id": "vMQ1TPx-1s4u",
        "outputId": "cc81cf16-1f6f-485e-987b-c052dc8d0742"
      },
      "execution_count": null,
      "outputs": [
        {
          "output_type": "stream",
          "name": "stdout",
          "text": [
            "+-----------+-----------+--------------+----------+--------------+--------------------+----------------+-----------+-------------+-----------+----+-----------------+--------------------+--------------------+-----------+\n",
            "|marketplace|customer_id|     review_id|product_id|product_parent|       product_title|product_category|star_rating|helpful_votes|total_votes|vine|verified_purchase|     review_headline|         review_body|review_date|\n",
            "+-----------+-----------+--------------+----------+--------------+--------------------+----------------+-----------+-------------+-----------+----+-----------------+--------------------+--------------------+-----------+\n",
            "|         US|   42605767|R3EFW2STIYIY0I|B00MUTIDKI|     248732228|McAfee 2015 Inter...|        Software|          1|            2|          2|   N|                Y|I was very disapp...|I was very disapp...| 2015-08-31|\n",
            "|         US|   51771800|R12NR0R5A9F7FT|B00EPACNUG|     531462352|Hallmark Card Stu...|        Software|          5|            0|          0|   N|                Y|          Five Stars|I had a little st...| 2015-08-31|\n",
            "|         US|   16053526|R1LSH74R9XAP59|B00164AZA4|     473982505| Search and Rescue 4|        Software|          2|            0|          1|   N|                Y|    Have windows 10?|Tried to download...| 2015-08-31|\n",
            "|         US|   15319481|R1QXUNTF76K7L6|B00E6LIEFM|     189774198|      Quickbooks Pro|        Software|          2|            0|          0|   N|                Y|Disc was corrupt,...|Disc was corrupt,...| 2015-08-31|\n",
            "|         US|    1441820|R2F7DR75PS8NKT|B00VWEBG06|     852470365|Windows 7 Profess...|        Software|          5|            0|          0|   N|                Y|          Five Stars|Just what I neede...| 2015-08-31|\n",
            "|         US|   37107850|R2C1DJSCC8UFS6|B00EP7AP7C|     279360628|Family Tree Maker...|        Software|          3|            0|          0|   N|                Y|         Three Stars|Didn't like havin...| 2015-08-31|\n",
            "|         US|     302120|R1AXGS1W4YFXMX|B00OW2PET4|     729971168|World of Farming:...|        Software|          1|            0|          2|   N|                Y|            One Star|it does not work ...| 2015-08-31|\n",
            "|         US|   20193077|R1XU1B93402SYJ|B00N4OLCRO|     776572654|Photoshop Element...|        Software|          1|            1|          1|   N|                Y|Can't load to my ...|I have tried for ...| 2015-08-31|\n",
            "|         US|   13106017|R2U432NB3OPVR0|B005CELN8W|     222071424|Phantom EFX WMS S...|        Software|          5|            0|          0|   N|                Y|          Five Stars|       love the game| 2015-08-31|\n",
            "|         US|   32587108|R3R6FIMIOQ5SP9|B005CELL1G|     168801430|PaperPort Profess...|        Software|          5|            0|          0|   N|                Y|Meets our small b...|Great software. A...| 2015-08-31|\n",
            "|         US|   32020017|R12TX6V09C9QNQ|B00H09BOXQ|     455502995|Windows 7 Profess...|        Software|          5|            0|          0|   N|                Y|          Five Stars|             Awesome| 2015-08-31|\n",
            "|         US|   13376158|R33UCII6YKUMKV|B00MCLGAAO|     652069521| QuickBooks Pro 2015|        Software|          3|            2|          2|   N|                Y|Nothing New in Th...|To start this rev...| 2015-08-31|\n",
            "|         US|   47098110| RZKDAB9TGO053|B00P6U8C5Y|     871602905|Block Financial H...|        Software|          1|            0|          0|   N|                Y|Missing key infor...|Some key provisio...| 2015-08-31|\n",
            "|         US|   24083274|R2EMN2EEDN73ZA|B00MA5TPN6|     299038085|Parallels Desktop...|        Software|          4|            0|          0|   N|                Y|Probably the best...|Probably the best...| 2015-08-31|\n",
            "|         US|   41137196| RU9LHN1NJDVOI|B000EQ868I|     534229510|Cosmi Print Perfe...|        Software|          5|            0|          0|   N|                Y|          Five Stars|I was pleased wit...| 2015-08-31|\n",
            "|         US|   18003829|R19910SO17BQUE|B00MYXTCMI|      42668324|TurboTax Business...|        Software|          5|            0|          0|   N|                Y|... what it is su...|This program does...| 2015-08-31|\n",
            "|         US|   14460749|R32N10BW8MH847|B008PIQXP0|     116724371|I.R.I.S. Readiris...|        Software|          4|            2|          4|   N|                Y|          Four Stars|Again it should h...| 2015-08-31|\n",
            "|         US|   12641855| R2DNM85DH7FGK|B00KAFOXXU|     471261945|Finale PrintMusic...|        Software|          5|            0|          2|   N|                Y|          Five Stars|               great| 2015-08-31|\n",
            "|         US|   13775565|R2G9RFFW051RWY|B00OKSOLE4|     694520847|Microsoft Office ...|        Software|          5|            0|          0|   N|                Y|          Five Stars|        Easy to use.| 2015-08-31|\n",
            "|         US|   31044774|R26CC1STPSUHBS|B01019T6O0|     510976915|Microsoft Windows...|        Software|          1|           27|         39|   N|                N|Do NOT take the \"...|Do NOT take the &...| 2015-08-31|\n",
            "+-----------+-----------+--------------+----------+--------------+--------------------+----------------+-----------+-------------+-----------+----+-----------------+--------------------+--------------------+-----------+\n",
            "only showing top 20 rows\n",
            "\n"
          ]
        }
      ]
    },
    {
      "cell_type": "code",
      "source": [
        "# Create Vine_df using columns: review_id, star_rating, helpful_votes, total_votes, vine, verified_purchase\n",
        "vine_df = df.select([\"review_id\", \"star_rating\", \"helpful_votes\", \"total_votes\", \"vine\", \"verified_purchase\"])\n",
        "vine_df.show()"
      ],
      "metadata": {
        "colab": {
          "base_uri": "https://localhost:8080/"
        },
        "id": "3dLn5eXM2PEb",
        "outputId": "99f70ba9-b00b-490e-e190-d1cd723116cb"
      },
      "execution_count": null,
      "outputs": [
        {
          "output_type": "stream",
          "name": "stdout",
          "text": [
            "+--------------+-----------+-------------+-----------+----+-----------------+\n",
            "|     review_id|star_rating|helpful_votes|total_votes|vine|verified_purchase|\n",
            "+--------------+-----------+-------------+-----------+----+-----------------+\n",
            "|R3EFW2STIYIY0I|          1|            2|          2|   N|                Y|\n",
            "|R12NR0R5A9F7FT|          5|            0|          0|   N|                Y|\n",
            "|R1LSH74R9XAP59|          2|            0|          1|   N|                Y|\n",
            "|R1QXUNTF76K7L6|          2|            0|          0|   N|                Y|\n",
            "|R2F7DR75PS8NKT|          5|            0|          0|   N|                Y|\n",
            "|R2C1DJSCC8UFS6|          3|            0|          0|   N|                Y|\n",
            "|R1AXGS1W4YFXMX|          1|            0|          2|   N|                Y|\n",
            "|R1XU1B93402SYJ|          1|            1|          1|   N|                Y|\n",
            "|R2U432NB3OPVR0|          5|            0|          0|   N|                Y|\n",
            "|R3R6FIMIOQ5SP9|          5|            0|          0|   N|                Y|\n",
            "|R12TX6V09C9QNQ|          5|            0|          0|   N|                Y|\n",
            "|R33UCII6YKUMKV|          3|            2|          2|   N|                Y|\n",
            "| RZKDAB9TGO053|          1|            0|          0|   N|                Y|\n",
            "|R2EMN2EEDN73ZA|          4|            0|          0|   N|                Y|\n",
            "| RU9LHN1NJDVOI|          5|            0|          0|   N|                Y|\n",
            "|R19910SO17BQUE|          5|            0|          0|   N|                Y|\n",
            "|R32N10BW8MH847|          4|            2|          4|   N|                Y|\n",
            "| R2DNM85DH7FGK|          5|            0|          2|   N|                Y|\n",
            "|R2G9RFFW051RWY|          5|            0|          0|   N|                Y|\n",
            "|R26CC1STPSUHBS|          1|           27|         39|   N|                N|\n",
            "+--------------+-----------+-------------+-----------+----+-----------------+\n",
            "only showing top 20 rows\n",
            "\n"
          ]
        }
      ]
    },
    {
      "cell_type": "code",
      "source": [
        "# filter df for total_votes count equal to or greater than 20\n",
        "\n",
        "total_votes_df = df.filter(df.total_votes >= 20)\n",
        "total_votes_df.show()"
      ],
      "metadata": {
        "colab": {
          "base_uri": "https://localhost:8080/"
        },
        "id": "DipZTioQ25kg",
        "outputId": "83c7f617-2ff0-49ba-baca-4f5874e8ca83"
      },
      "execution_count": null,
      "outputs": [
        {
          "output_type": "stream",
          "name": "stdout",
          "text": [
            "+-----------+-----------+--------------+----------+--------------+--------------------+----------------+-----------+-------------+-----------+----+-----------------+--------------------+--------------------+-----------+\n",
            "|marketplace|customer_id|     review_id|product_id|product_parent|       product_title|product_category|star_rating|helpful_votes|total_votes|vine|verified_purchase|     review_headline|         review_body|review_date|\n",
            "+-----------+-----------+--------------+----------+--------------+--------------------+----------------+-----------+-------------+-----------+----+-----------------+--------------------+--------------------+-----------+\n",
            "|         US|   31044774|R26CC1STPSUHBS|B01019T6O0|     510976915|Microsoft Windows...|        Software|          1|           27|         39|   N|                N|Do NOT take the \"...|Do NOT take the &...| 2015-08-31|\n",
            "|         US|   51362864| R7K83D59T9KWS|B00ZSI7Y3U|     604043733|Microsoft Windows...|        Software|          1|           16|         26|   N|                N|Works Great As Sp...|I had to uninstal...| 2015-08-30|\n",
            "|         US|   51362864|R2ATG5BPVILHUM|B01019T6O0|     510976915|Microsoft Windows...|        Software|          1|           16|         25|   N|                N|Works Great As Sp...|I had to uninstal...| 2015-08-30|\n",
            "|         US|    8607300|R1Q71TAM5ZOYTK|B01019T6O0|     510976915|Microsoft Windows...|        Software|          3|           57|         61|   N|                N|u dont get a wind...|My windows 7 home...| 2015-08-29|\n",
            "|         US|   36244744| RR8HYI7C2XKMU|B00SXZBLXE|     153819259|Mixcraft Pro Stud...|        Software|          5|           25|         25|   N|                Y|More professional...|This is no baby s...| 2015-08-28|\n",
            "|         US|   43577240|R1VDCSJE4CJJIR|B00VWCKJVA|     688031680|         Lightroom 6|        Software|          1|           88|         97|   N|                Y|      Complete Scam!|I've posted a rev...| 2015-08-27|\n",
            "|         US|   50521412|R2PZMSDKOO1Q6W|B00ZSHDJ4O|     290929234|Microsoft Windows...|        Software|          1|           29|         43|   N|                Y|Microsoft has got...|Microsoft has got...| 2015-08-26|\n",
            "|         US|   48775338|R39OOYN0DOLINK|B01019T6O0|     510976915|Microsoft Windows...|        Software|          3|           91|        111|   N|                N|You can minimize ...|After upgrading (...| 2015-08-25|\n",
            "|         US|   35082889|R1PLNHJZ8BKIBG|B00LX4BZAQ|     484797539|Dragon NaturallyS...|        Software|          1|           44|         46|   N|                Y|False Advertising...|I bought this pro...| 2015-08-25|\n",
            "|         US|    4317411|R14G4YQXL17REH|B00ZSI7Y3U|     604043733|Microsoft Windows...|        Software|          1|            4|         28|   N|                N|     MICROSOFT DEAD!|after the bad exp...| 2015-08-25|\n",
            "|         US|   11251916|R3UTVKJF44E0R6|B00ZSHDJ4O|     290929234|Microsoft Windows...|        Software|          1|           46|         69|   N|                N|Way beyond snooping!|Windows 10<br /><...| 2015-08-24|\n",
            "|         US|   51067712| R2J71KOOLF9UB|B00UN8POM8|     220690061|Home Designer Sui...|        Software|          1|            5|         20|   N|                Y|               Sucks|This product shou...| 2015-08-23|\n",
            "|         US|   50365571|R2CAD5FOVMTR2L|B01019TFVY|     532233604|Microsoft Windows...|        Software|          2|           17|         28|   N|                N|Bad in Any Language.|Windows 10 was de...| 2015-08-23|\n",
            "|         US|   25166029|R2SW9V1EDQH6O7|B000NRY05G|     533940081|Microsoft Windows 95|        Software|          5|           27|         29|   N|                N|Good upgrade over...|I've upgraded to ...| 2015-08-23|\n",
            "|         US|   13162359|R3SI1TZD809Y0T|B010MZ91SO|      29881971|Microsoft Office ...|        Software|          5|           24|         24|   N|                Y|         Great Deal!|The CD was as pro...| 2015-08-21|\n",
            "|         US|   16751752|R23WY4HVMD8SY3|B01019T6O0|     510976915|Microsoft Windows...|        Software|          1|            7|         24|   N|                N|IT'S TIME FOR AN ...|I have been a loy...| 2015-08-21|\n",
            "|         US|   30650271|R2V0VLBRWCMX3I|B00VWCKJVA|     688031680|         Lightroom 6|        Software|          1|          563|        601|   N|                N|Be aware of the s...|Buyer Beware!  I ...| 2015-08-21|\n",
            "|         US|   26256430| R34R79B2P5DJD|B01019T6O0|     510976915|Microsoft Windows...|        Software|          1|           87|        112|   N|                N|  Terrible OS, again|I have been runni...| 2015-08-21|\n",
            "|         US|   17762999| R4D6AQ86X5RQG|B00OM6SKH8|     430638075|DeLorme Street At...|        Software|          1|           22|         26|   N|                N|Don't buy it - he...|If you’re after t...| 2015-08-20|\n",
            "|         US|   35255215|R1BSZ4PB99TN8D|B01019T6O0|     510976915|Microsoft Windows...|        Software|          1|           61|         90|   N|                N|Stay Away From Wi...|Buyer beware!  I ...| 2015-08-20|\n",
            "+-----------+-----------+--------------+----------+--------------+--------------------+----------------+-----------+-------------+-----------+----+-----------------+--------------------+--------------------+-----------+\n",
            "only showing top 20 rows\n",
            "\n"
          ]
        }
      ]
    },
    {
      "cell_type": "code",
      "source": [
        "# Create a new df where all the rows where the number of helpful_votes divided by total_votes is equal to or greater than 50%.\n",
        "\n",
        "greater_fifty = total_votes_df.filter(total_votes_df[\"helpful_votes\"] / total_votes_df[\"total_votes\"] >= .5)\n",
        "greater_fifty.show()"
      ],
      "metadata": {
        "colab": {
          "base_uri": "https://localhost:8080/"
        },
        "id": "6NE6yI7q3Yq3",
        "outputId": "57e9cde1-0c9c-45c3-976e-be7d32c2b243"
      },
      "execution_count": null,
      "outputs": [
        {
          "output_type": "stream",
          "name": "stdout",
          "text": [
            "+-----------+-----------+--------------+----------+--------------+--------------------+----------------+-----------+-------------+-----------+----+-----------------+--------------------+--------------------+-----------+\n",
            "|marketplace|customer_id|     review_id|product_id|product_parent|       product_title|product_category|star_rating|helpful_votes|total_votes|vine|verified_purchase|     review_headline|         review_body|review_date|\n",
            "+-----------+-----------+--------------+----------+--------------+--------------------+----------------+-----------+-------------+-----------+----+-----------------+--------------------+--------------------+-----------+\n",
            "|         US|   31044774|R26CC1STPSUHBS|B01019T6O0|     510976915|Microsoft Windows...|        Software|          1|           27|         39|   N|                N|Do NOT take the \"...|Do NOT take the &...| 2015-08-31|\n",
            "|         US|   51362864| R7K83D59T9KWS|B00ZSI7Y3U|     604043733|Microsoft Windows...|        Software|          1|           16|         26|   N|                N|Works Great As Sp...|I had to uninstal...| 2015-08-30|\n",
            "|         US|   51362864|R2ATG5BPVILHUM|B01019T6O0|     510976915|Microsoft Windows...|        Software|          1|           16|         25|   N|                N|Works Great As Sp...|I had to uninstal...| 2015-08-30|\n",
            "|         US|    8607300|R1Q71TAM5ZOYTK|B01019T6O0|     510976915|Microsoft Windows...|        Software|          3|           57|         61|   N|                N|u dont get a wind...|My windows 7 home...| 2015-08-29|\n",
            "|         US|   36244744| RR8HYI7C2XKMU|B00SXZBLXE|     153819259|Mixcraft Pro Stud...|        Software|          5|           25|         25|   N|                Y|More professional...|This is no baby s...| 2015-08-28|\n",
            "|         US|   43577240|R1VDCSJE4CJJIR|B00VWCKJVA|     688031680|         Lightroom 6|        Software|          1|           88|         97|   N|                Y|      Complete Scam!|I've posted a rev...| 2015-08-27|\n",
            "|         US|   50521412|R2PZMSDKOO1Q6W|B00ZSHDJ4O|     290929234|Microsoft Windows...|        Software|          1|           29|         43|   N|                Y|Microsoft has got...|Microsoft has got...| 2015-08-26|\n",
            "|         US|   48775338|R39OOYN0DOLINK|B01019T6O0|     510976915|Microsoft Windows...|        Software|          3|           91|        111|   N|                N|You can minimize ...|After upgrading (...| 2015-08-25|\n",
            "|         US|   35082889|R1PLNHJZ8BKIBG|B00LX4BZAQ|     484797539|Dragon NaturallyS...|        Software|          1|           44|         46|   N|                Y|False Advertising...|I bought this pro...| 2015-08-25|\n",
            "|         US|   11251916|R3UTVKJF44E0R6|B00ZSHDJ4O|     290929234|Microsoft Windows...|        Software|          1|           46|         69|   N|                N|Way beyond snooping!|Windows 10<br /><...| 2015-08-24|\n",
            "|         US|   50365571|R2CAD5FOVMTR2L|B01019TFVY|     532233604|Microsoft Windows...|        Software|          2|           17|         28|   N|                N|Bad in Any Language.|Windows 10 was de...| 2015-08-23|\n",
            "|         US|   25166029|R2SW9V1EDQH6O7|B000NRY05G|     533940081|Microsoft Windows 95|        Software|          5|           27|         29|   N|                N|Good upgrade over...|I've upgraded to ...| 2015-08-23|\n",
            "|         US|   13162359|R3SI1TZD809Y0T|B010MZ91SO|      29881971|Microsoft Office ...|        Software|          5|           24|         24|   N|                Y|         Great Deal!|The CD was as pro...| 2015-08-21|\n",
            "|         US|   30650271|R2V0VLBRWCMX3I|B00VWCKJVA|     688031680|         Lightroom 6|        Software|          1|          563|        601|   N|                N|Be aware of the s...|Buyer Beware!  I ...| 2015-08-21|\n",
            "|         US|   26256430| R34R79B2P5DJD|B01019T6O0|     510976915|Microsoft Windows...|        Software|          1|           87|        112|   N|                N|  Terrible OS, again|I have been runni...| 2015-08-21|\n",
            "|         US|   17762999| R4D6AQ86X5RQG|B00OM6SKH8|     430638075|DeLorme Street At...|        Software|          1|           22|         26|   N|                N|Don't buy it - he...|If you’re after t...| 2015-08-20|\n",
            "|         US|   35255215|R1BSZ4PB99TN8D|B01019T6O0|     510976915|Microsoft Windows...|        Software|          1|           61|         90|   N|                N|Stay Away From Wi...|Buyer beware!  I ...| 2015-08-20|\n",
            "|         US|   48597156|R1QMF01BDRT2LJ|B00ZSI7Y3U|     604043733|Microsoft Windows...|        Software|          1|           10|         20|   N|                N|Very bad experien...|Very bad experien...| 2015-08-20|\n",
            "|         US|     147523|R2NBUUW79OYBGT|B00H09BB16|     823950285|Windows 7 Home Pr...|        Software|          1|           57|         58|   N|                Y|   PIRATED WINDOWS 7|Sadly after payin...| 2015-08-20|\n",
            "|         US|   19934423|R24OEFISZWTBDJ|B01019TDJ8|     218396039|Microsoft Windows...|        Software|          4|           17|         25|   N|                N|windows 8.1 to 10...|I am a very exper...| 2015-08-19|\n",
            "+-----------+-----------+--------------+----------+--------------+--------------------+----------------+-----------+-------------+-----------+----+-----------------+--------------------+--------------------+-----------+\n",
            "only showing top 20 rows\n",
            "\n"
          ]
        }
      ]
    },
    {
      "cell_type": "code",
      "source": [
        "# Import the sum function \n",
        "from pyspark.sql.functions import sum\n",
        "\n",
        "# Confirm total number of reviews where the number of helpful_votes divided by total_votes is equal to or greater than 50%.\n",
        "\n",
        "greater_fifty_total = greater_fifty.agg({\"total_votes\": \"sum\"})\n",
        "greater_fifty_total.show()"
      ],
      "metadata": {
        "colab": {
          "base_uri": "https://localhost:8080/"
        },
        "id": "X6dAcmLJJXMj",
        "outputId": "e26fda8f-54a7-40f2-aeb0-566ede62c956"
      },
      "execution_count": null,
      "outputs": [
        {
          "output_type": "stream",
          "name": "stdout",
          "text": [
            "+----------------+\n",
            "|sum(total_votes)|\n",
            "+----------------+\n",
            "|          918702|\n",
            "+----------------+\n",
            "\n"
          ]
        }
      ]
    },
    {
      "cell_type": "code",
      "source": [
        "# Create a df where all the rows where a review was written as part of the Vine program (paid)\n",
        "\n",
        "paid_vine = greater_fifty.filter(greater_fifty.vine == \"Y\")\n",
        "paid_vine.show()"
      ],
      "metadata": {
        "colab": {
          "base_uri": "https://localhost:8080/"
        },
        "id": "YBJe_GVi4jtv",
        "outputId": "f1a79d96-c4c8-4e46-879b-fdca6d35f4a6"
      },
      "execution_count": null,
      "outputs": [
        {
          "output_type": "stream",
          "name": "stdout",
          "text": [
            "+-----------+-----------+--------------+----------+--------------+--------------------+----------------+-----------+-------------+-----------+----+-----------------+--------------------+--------------------+-----------+\n",
            "|marketplace|customer_id|     review_id|product_id|product_parent|       product_title|product_category|star_rating|helpful_votes|total_votes|vine|verified_purchase|     review_headline|         review_body|review_date|\n",
            "+-----------+-----------+--------------+----------+--------------+--------------------+----------------+-----------+-------------+-----------+----+-----------------+--------------------+--------------------+-----------+\n",
            "|         US|   12051324|R28EIR3Z6RRUNN|B00UV3VCLC|     617825071|Cyberlink PowerDV...|        Software|          2|           50|         60|   Y|                N|Frustrating, but ...|My computer has a...| 2015-06-11|\n",
            "|         US|   50867647|R2YO2RESXZEWOF|B00T0I6J9E|     636727185|        Corel Parent|        Software|          4|           24|         25|   Y|                N|Makes many video ...|It took me awhile...| 2015-04-22|\n",
            "|         US|   52783660| R8GEE2EW3D6S9|B00OMQLNJK|     844039629|Corel Painter Ess...|        Software|          3|           49|         54|   Y|                N|     Has Pros & Cons|Painter Essential...| 2015-03-02|\n",
            "|         US|   40065598|R33W9V1MX6WKPS|B00OMQLNJK|     844039629|Corel Painter Ess...|        Software|          4|           47|         53|   Y|                N|90% cheese 10% aw...|First off, this p...| 2015-02-21|\n",
            "|         US|   52802468|R24E3W2ZRIFG8C|B00OMQLNJK|     844039629|Corel Painter Ess...|        Software|          5|           91|         93|   Y|                N|A seriously funct...|I've wanted to gi...| 2015-02-13|\n",
            "|         US|   52304188|R2OR3KIFFG4YWT|B00MYXTCNC|     917377282|TurboTax Premier ...|        Software|          4|           75|         81|   Y|                Y|Easy install - ea...|I received the 20...| 2015-01-13|\n",
            "|         US|   47098142|R1RLJAAFOA5MMS|B00MYXTCGY|      39020414|TurboTax Deluxe F...|        Software|          2|           25|         27|   Y|                N|Maybe Intuit made...|I've been a TaxCu...| 2014-12-30|\n",
            "|         US|   12385709| RVYHD7IZ7W99B|B00O2KAI2Y|     403190706|Rosetta Stone Kid...|        Software|          1|           78|         78|   Y|                N|There are better ...|After using this ...| 2014-12-12|\n",
            "|         US|   52894480|R12EV95D2T56HA|B00N4OLGL6|     955293140|CyberlinkUltimate...|        Software|          5|           37|         37|   Y|                N|   A big improvement|There are several...| 2014-12-11|\n",
            "|         US|   53053848|R296NVZGV4VZLP|B00NASFCDO|     601037731|Cyberlink PhotoDi...|        Software|          5|           41|         44|   Y|                N|A low-cost, excep...|As an instructor ...| 2014-12-02|\n",
            "|         US|   51391300| RLJPGO3YMKSI6|B00ND0E7FS|     686506638|    HonestechTwister|        Software|          5|           24|         27|   Y|                N|Preserves your pr...|Back when my firs...| 2014-12-01|\n",
            "|         US|   51771760|R33KYYMINUELQA|B00O66FYU0|     796943233|Adobe Creative Cl...|        Software|          2|           23|         23|   Y|                N|Misleading price ...|I have been an av...| 2014-11-30|\n",
            "|         US|   35753769| RNNE1AAL4XU7W|B00ND0E7FS|     686506638|    HonestechTwister|        Software|          4|           60|         64|   Y|                N|A bit confusing a...|This is a nice li...| 2014-11-26|\n",
            "|         US|   53064080| RC38M96UFDOOI|B00MV9ELBM|     974825706|Norton Security w...|        Software|          3|           78|         87|   Y|                N|Solid Norton upda...|Norton Security w...| 2014-11-23|\n",
            "|         US|   15394148| RR9F2YTECN67C|B00ND0E7FS|     686506638|    HonestechTwister|        Software|          5|           35|         37|   Y|                N|Super easy (Mac r...|I have videos of ...| 2014-11-22|\n",
            "|         US|   49698652|R1HB8SSCA97V9U|B00MV9ELBM|     974825706|Norton Security w...|        Software|          5|          100|        105|   Y|                N|Something Good Go...|I have tried seve...| 2014-11-11|\n",
            "|         US|   17481726| RX4E94KN6K16U|B00MUTAY2S|     742495214|McAfee 2015 Total...|        Software|          5|           56|         59|   Y|                N|McAfee Total Prot...|I installed McAfe...| 2014-10-26|\n",
            "|         US|   51407943|R1XLGO18EB3KZA|B00LYYN13O|     784699786|Corel PaintShop P...|        Software|          5|           25|         25|   Y|                N|Easy and fun to u...|PaintShop Pro is ...| 2014-10-24|\n",
            "|         US|   43330348|R1R9XER49EMT2N|B00LX4BZAQ|     484797539|Dragon NaturallyS...|        Software|          2|           34|         35|   Y|                N|Wanted to like it...|I am writing this...| 2014-10-20|\n",
            "|         US|   13946721| R7ST49NTUXZLV|B00LYYMXB0|     499206730|PaintShop Pro X7 ...|        Software|          5|           23|         25|   Y|                N|I'M A CONVERT FRO...|I've been a profe...| 2014-10-12|\n",
            "+-----------+-----------+--------------+----------+--------------+--------------------+----------------+-----------+-------------+-----------+----+-----------------+--------------------+--------------------+-----------+\n",
            "only showing top 20 rows\n",
            "\n"
          ]
        }
      ]
    },
    {
      "cell_type": "code",
      "source": [
        "# Create a df where all the rows where a review was written was not part of the Vine program (unpaid)\n",
        "\n",
        "unpaid_vine = greater_fifty.filter(greater_fifty.vine == \"N\")\n",
        "unpaid_vine.show()\n"
      ],
      "metadata": {
        "colab": {
          "base_uri": "https://localhost:8080/"
        },
        "id": "QAhxZRwr5Q9T",
        "outputId": "431b4c3b-b40c-400a-9edf-ebb104b8c57a"
      },
      "execution_count": null,
      "outputs": [
        {
          "output_type": "stream",
          "name": "stdout",
          "text": [
            "+-----------+-----------+--------------+----------+--------------+--------------------+----------------+-----------+-------------+-----------+----+-----------------+--------------------+--------------------+-----------+\n",
            "|marketplace|customer_id|     review_id|product_id|product_parent|       product_title|product_category|star_rating|helpful_votes|total_votes|vine|verified_purchase|     review_headline|         review_body|review_date|\n",
            "+-----------+-----------+--------------+----------+--------------+--------------------+----------------+-----------+-------------+-----------+----+-----------------+--------------------+--------------------+-----------+\n",
            "|         US|   31044774|R26CC1STPSUHBS|B01019T6O0|     510976915|Microsoft Windows...|        Software|          1|           27|         39|   N|                N|Do NOT take the \"...|Do NOT take the &...| 2015-08-31|\n",
            "|         US|   51362864| R7K83D59T9KWS|B00ZSI7Y3U|     604043733|Microsoft Windows...|        Software|          1|           16|         26|   N|                N|Works Great As Sp...|I had to uninstal...| 2015-08-30|\n",
            "|         US|   51362864|R2ATG5BPVILHUM|B01019T6O0|     510976915|Microsoft Windows...|        Software|          1|           16|         25|   N|                N|Works Great As Sp...|I had to uninstal...| 2015-08-30|\n",
            "|         US|    8607300|R1Q71TAM5ZOYTK|B01019T6O0|     510976915|Microsoft Windows...|        Software|          3|           57|         61|   N|                N|u dont get a wind...|My windows 7 home...| 2015-08-29|\n",
            "|         US|   36244744| RR8HYI7C2XKMU|B00SXZBLXE|     153819259|Mixcraft Pro Stud...|        Software|          5|           25|         25|   N|                Y|More professional...|This is no baby s...| 2015-08-28|\n",
            "|         US|   43577240|R1VDCSJE4CJJIR|B00VWCKJVA|     688031680|         Lightroom 6|        Software|          1|           88|         97|   N|                Y|      Complete Scam!|I've posted a rev...| 2015-08-27|\n",
            "|         US|   50521412|R2PZMSDKOO1Q6W|B00ZSHDJ4O|     290929234|Microsoft Windows...|        Software|          1|           29|         43|   N|                Y|Microsoft has got...|Microsoft has got...| 2015-08-26|\n",
            "|         US|   48775338|R39OOYN0DOLINK|B01019T6O0|     510976915|Microsoft Windows...|        Software|          3|           91|        111|   N|                N|You can minimize ...|After upgrading (...| 2015-08-25|\n",
            "|         US|   35082889|R1PLNHJZ8BKIBG|B00LX4BZAQ|     484797539|Dragon NaturallyS...|        Software|          1|           44|         46|   N|                Y|False Advertising...|I bought this pro...| 2015-08-25|\n",
            "|         US|   11251916|R3UTVKJF44E0R6|B00ZSHDJ4O|     290929234|Microsoft Windows...|        Software|          1|           46|         69|   N|                N|Way beyond snooping!|Windows 10<br /><...| 2015-08-24|\n",
            "|         US|   50365571|R2CAD5FOVMTR2L|B01019TFVY|     532233604|Microsoft Windows...|        Software|          2|           17|         28|   N|                N|Bad in Any Language.|Windows 10 was de...| 2015-08-23|\n",
            "|         US|   25166029|R2SW9V1EDQH6O7|B000NRY05G|     533940081|Microsoft Windows 95|        Software|          5|           27|         29|   N|                N|Good upgrade over...|I've upgraded to ...| 2015-08-23|\n",
            "|         US|   13162359|R3SI1TZD809Y0T|B010MZ91SO|      29881971|Microsoft Office ...|        Software|          5|           24|         24|   N|                Y|         Great Deal!|The CD was as pro...| 2015-08-21|\n",
            "|         US|   30650271|R2V0VLBRWCMX3I|B00VWCKJVA|     688031680|         Lightroom 6|        Software|          1|          563|        601|   N|                N|Be aware of the s...|Buyer Beware!  I ...| 2015-08-21|\n",
            "|         US|   26256430| R34R79B2P5DJD|B01019T6O0|     510976915|Microsoft Windows...|        Software|          1|           87|        112|   N|                N|  Terrible OS, again|I have been runni...| 2015-08-21|\n",
            "|         US|   17762999| R4D6AQ86X5RQG|B00OM6SKH8|     430638075|DeLorme Street At...|        Software|          1|           22|         26|   N|                N|Don't buy it - he...|If you’re after t...| 2015-08-20|\n",
            "|         US|   35255215|R1BSZ4PB99TN8D|B01019T6O0|     510976915|Microsoft Windows...|        Software|          1|           61|         90|   N|                N|Stay Away From Wi...|Buyer beware!  I ...| 2015-08-20|\n",
            "|         US|   48597156|R1QMF01BDRT2LJ|B00ZSI7Y3U|     604043733|Microsoft Windows...|        Software|          1|           10|         20|   N|                N|Very bad experien...|Very bad experien...| 2015-08-20|\n",
            "|         US|     147523|R2NBUUW79OYBGT|B00H09BB16|     823950285|Windows 7 Home Pr...|        Software|          1|           57|         58|   N|                Y|   PIRATED WINDOWS 7|Sadly after payin...| 2015-08-20|\n",
            "|         US|   19934423|R24OEFISZWTBDJ|B01019TDJ8|     218396039|Microsoft Windows...|        Software|          4|           17|         25|   N|                N|windows 8.1 to 10...|I am a very exper...| 2015-08-19|\n",
            "+-----------+-----------+--------------+----------+--------------+--------------------+----------------+-----------+-------------+-----------+----+-----------------+--------------------+--------------------+-----------+\n",
            "only showing top 20 rows\n",
            "\n"
          ]
        }
      ]
    },
    {
      "cell_type": "code",
      "source": [
        "# Total number of paid reveiws\n",
        "\n",
        "# dataframe.agg({'column_name': 'sum'})\n",
        "#total_paid = paid_vine.agg({\"total_votes\": \"sum\"})\n",
        "#total_paid.show()\n",
        "\n",
        "total_paid = paid_vine.select(sum(\"total_votes\"))\n",
        "total_paid.show()\n",
        "\n"
      ],
      "metadata": {
        "colab": {
          "base_uri": "https://localhost:8080/"
        },
        "id": "jOZqxVq17INq",
        "outputId": "d427b41b-0c57-4bf5-cc8a-67933cc74e7a"
      },
      "execution_count": null,
      "outputs": [
        {
          "output_type": "stream",
          "name": "stdout",
          "text": [
            "+----------------+\n",
            "|sum(total_votes)|\n",
            "+----------------+\n",
            "|           20314|\n",
            "+----------------+\n",
            "\n"
          ]
        }
      ]
    },
    {
      "cell_type": "code",
      "source": [
        "# total number of 5 star reviews of paid reviews\n",
        "five_star_paid = paid_vine.filter(paid_vine[\"star_rating\"] == \"5\").agg({'total_votes':\"sum\"})\n",
        "five_star_paid.show()\n",
        "\n"
      ],
      "metadata": {
        "colab": {
          "base_uri": "https://localhost:8080/"
        },
        "id": "2MHbE4pL8hV2",
        "outputId": "63980f6e-c261-4955-b4e8-e2194e9030d3"
      },
      "execution_count": null,
      "outputs": [
        {
          "output_type": "stream",
          "name": "stdout",
          "text": [
            "+----------------+\n",
            "|sum(total_votes)|\n",
            "+----------------+\n",
            "|            8079|\n",
            "+----------------+\n",
            "\n"
          ]
        }
      ]
    },
    {
      "cell_type": "code",
      "source": [
        "# percentage of 5 star reviews of paid\n",
        "five_star_pct = 8079 / 20314\n",
        "five_star_pct"
      ],
      "metadata": {
        "colab": {
          "base_uri": "https://localhost:8080/"
        },
        "id": "13lOhPtT9hwd",
        "outputId": "25baa38d-f5fb-4804-89e3-43abcbbda914"
      },
      "execution_count": null,
      "outputs": [
        {
          "output_type": "execute_result",
          "data": {
            "text/plain": [
              "0.39770601555577434"
            ]
          },
          "metadata": {},
          "execution_count": 69
        }
      ]
    },
    {
      "cell_type": "code",
      "source": [
        "# Total number of unpaid reviews\n",
        "\n",
        "total_unpaid = unpaid_vine.agg({\"total_votes\": \"sum\"})\n",
        "total_unpaid.show()\n",
        "\n",
        "# dataframe.agg({'column_name': 'sum'})"
      ],
      "metadata": {
        "colab": {
          "base_uri": "https://localhost:8080/"
        },
        "id": "VjYYD0J-96QS",
        "outputId": "3410cba5-91d9-40a9-8249-3da9bc9ae3ab"
      },
      "execution_count": null,
      "outputs": [
        {
          "output_type": "stream",
          "name": "stdout",
          "text": [
            "+----------------+\n",
            "|sum(total_votes)|\n",
            "+----------------+\n",
            "|          898388|\n",
            "+----------------+\n",
            "\n"
          ]
        }
      ]
    },
    {
      "cell_type": "code",
      "source": [
        "# total number of 5 star reviews of unpaid reviews\n",
        "five_star_unpaid = unpaid_vine.filter(unpaid_vine[\"star_rating\"] == \"5\").agg({\"total_votes\":\"sum\"})\n",
        "five_star_unpaid.show()"
      ],
      "metadata": {
        "colab": {
          "base_uri": "https://localhost:8080/"
        },
        "id": "z7dBy9OJ-QTI",
        "outputId": "79cdc197-d931-4435-c26e-7d1b115fbb33"
      },
      "execution_count": null,
      "outputs": [
        {
          "output_type": "stream",
          "name": "stdout",
          "text": [
            "+----------------+\n",
            "|sum(total_votes)|\n",
            "+----------------+\n",
            "|          267089|\n",
            "+----------------+\n",
            "\n"
          ]
        }
      ]
    },
    {
      "cell_type": "code",
      "source": [
        "# percentage of 5 star reviews of paid\n",
        "five_star_pct_unpaid = 267089 / 898388\n",
        "five_star_pct_unpaid"
      ],
      "metadata": {
        "colab": {
          "base_uri": "https://localhost:8080/"
        },
        "id": "UpG0-zfH-YxV",
        "outputId": "fc202767-dda8-4ef4-84c2-b7955da3b5cf"
      },
      "execution_count": null,
      "outputs": [
        {
          "output_type": "execute_result",
          "data": {
            "text/plain": [
              "0.2972980493951389"
            ]
          },
          "metadata": {},
          "execution_count": 53
        }
      ]
    },
    {
      "cell_type": "code",
      "source": [
        "################_________________Additional_Vine_Review_Analysis_______________"
      ],
      "metadata": {
        "id": "375XDID6O67e"
      },
      "execution_count": null,
      "outputs": []
    },
    {
      "cell_type": "code",
      "source": [
        "# Total 1-2 stars reviews for paid vine\n",
        "\n",
        "one_two_paid = paid_vine.filter(paid_vine[\"star_rating\"] <= \"2\")\n",
        "one_two_paid.agg({\"total_votes\":\"sum\"}).show()\n",
        "\n"
      ],
      "metadata": {
        "colab": {
          "base_uri": "https://localhost:8080/"
        },
        "id": "QnCA2V8Cnv9w",
        "outputId": "c08c26b4-8f60-48fb-db42-d07301b4d039"
      },
      "execution_count": null,
      "outputs": [
        {
          "output_type": "stream",
          "name": "stdout",
          "text": [
            "+----------------+\n",
            "|sum(total_votes)|\n",
            "+----------------+\n",
            "|            3309|\n",
            "+----------------+\n",
            "\n"
          ]
        }
      ]
    },
    {
      "cell_type": "code",
      "source": [
        "# Total 1-2 stars reviews for unpaid vine\n",
        "\n",
        "one_two_unpaid = unpaid_vine.filter(unpaid_vine[\"star_rating\"] <= \"2\")\n",
        "one_two_unpaid.agg({\"total_votes\":\"sum\"}).show()\n"
      ],
      "metadata": {
        "colab": {
          "base_uri": "https://localhost:8080/"
        },
        "id": "YRKYC2p6o8wq",
        "outputId": "d5b77e3e-e941-455f-e608-772649e6ea69"
      },
      "execution_count": null,
      "outputs": [
        {
          "output_type": "stream",
          "name": "stdout",
          "text": [
            "+----------------+\n",
            "|sum(total_votes)|\n",
            "+----------------+\n",
            "|          417980|\n",
            "+----------------+\n",
            "\n"
          ]
        }
      ]
    },
    {
      "cell_type": "code",
      "source": [
        "# Percentage of 1-2 star reviews for paid vine\n",
        "\n",
        "negative_paid = 3309/ 20314\n",
        "negative_paid\n"
      ],
      "metadata": {
        "colab": {
          "base_uri": "https://localhost:8080/"
        },
        "id": "8v0O5Gq0pRbs",
        "outputId": "11c6a41f-2cc2-4b29-9296-c9a294567c7c"
      },
      "execution_count": null,
      "outputs": [
        {
          "output_type": "execute_result",
          "data": {
            "text/plain": [
              "0.16289258639362017"
            ]
          },
          "metadata": {},
          "execution_count": 81
        }
      ]
    },
    {
      "cell_type": "code",
      "source": [
        "# Percentage of 1-2 star reviews for unpaid vine\n",
        "\n",
        "negative_unpaid = 417980/898388\n",
        "negative_unpaid\n"
      ],
      "metadata": {
        "colab": {
          "base_uri": "https://localhost:8080/"
        },
        "id": "QWdhBKiIppRZ",
        "outputId": "6d1cd009-0ddd-4adb-b266-e23587a00804"
      },
      "execution_count": null,
      "outputs": [
        {
          "output_type": "execute_result",
          "data": {
            "text/plain": [
              "0.4652555466012458"
            ]
          },
          "metadata": {},
          "execution_count": 82
        }
      ]
    },
    {
      "cell_type": "code",
      "source": [
        "# Total 4-5 stars reviews for paid vine\n",
        "\n",
        "four_five_paid = paid_vine.filter(paid_vine[\"star_rating\"] >= \"4\")\n",
        "four_five_paid.agg({\"total_votes\":\"sum\"}).show()"
      ],
      "metadata": {
        "colab": {
          "base_uri": "https://localhost:8080/"
        },
        "id": "fw-EKohAqpKF",
        "outputId": "55d9247d-5a1e-423b-d5e7-84a17f2b4edc"
      },
      "execution_count": null,
      "outputs": [
        {
          "output_type": "stream",
          "name": "stdout",
          "text": [
            "+----------------+\n",
            "|sum(total_votes)|\n",
            "+----------------+\n",
            "|           12768|\n",
            "+----------------+\n",
            "\n"
          ]
        }
      ]
    },
    {
      "cell_type": "code",
      "source": [
        "# Total 4-5 stars reviews for unpaid vine\n",
        "\n",
        "four_five_unpaid = unpaid_vine.filter(unpaid_vine[\"star_rating\"] >= \"4\")\n",
        "four_five_unpaid.agg({\"total_votes\":\"sum\"}).show()"
      ],
      "metadata": {
        "colab": {
          "base_uri": "https://localhost:8080/"
        },
        "id": "ay-1lRk2q5UN",
        "outputId": "90fe0179-d806-42c2-d5a0-2506107be23a"
      },
      "execution_count": null,
      "outputs": [
        {
          "output_type": "stream",
          "name": "stdout",
          "text": [
            "+----------------+\n",
            "|sum(total_votes)|\n",
            "+----------------+\n",
            "|          390116|\n",
            "+----------------+\n",
            "\n"
          ]
        }
      ]
    },
    {
      "cell_type": "code",
      "source": [
        "# Percentage of 4-5 star reviews for paid vine\n",
        "\n",
        "four_five_pct = 12768/ 20314\n",
        "four_five_pct"
      ],
      "metadata": {
        "colab": {
          "base_uri": "https://localhost:8080/"
        },
        "id": "II0STpqZq_Fe",
        "outputId": "36712f36-e1e1-4270-a1df-e8929dbef05f"
      },
      "execution_count": null,
      "outputs": [
        {
          "output_type": "execute_result",
          "data": {
            "text/plain": [
              "0.6285320468642316"
            ]
          },
          "metadata": {},
          "execution_count": 88
        }
      ]
    },
    {
      "cell_type": "code",
      "source": [
        "# Percentage of 4-5 star reviews for unpaid vine\n",
        "\n",
        "four_five_pct_unpaid = 390116/898388\n",
        "four_five_pct_unpaid\n"
      ],
      "metadata": {
        "colab": {
          "base_uri": "https://localhost:8080/"
        },
        "id": "owPslyV0rIYd",
        "outputId": "ac94d32c-69b5-45a3-8e5d-44755b848f73"
      },
      "execution_count": null,
      "outputs": [
        {
          "output_type": "execute_result",
          "data": {
            "text/plain": [
              "0.4342399943009034"
            ]
          },
          "metadata": {},
          "execution_count": 89
        }
      ]
    },
    {
      "cell_type": "code",
      "source": [
        "dept = [(\"5-stars\", five_star_pct, five_star_pct_unpaid),\n",
        "        (\"4-5 stars\", four_five_pct, four_five_pct_unpaid),\n",
        "        (\"1-2 stars\", negative_paid, negative_unpaid)]\n",
        "\n",
        "deptColumns = [\"Rating\", \"Paid\", \"Unpaid\"]"
      ],
      "metadata": {
        "id": "tyRu9Tupuga1"
      },
      "execution_count": null,
      "outputs": []
    },
    {
      "cell_type": "code",
      "source": [
        "reviews_df = spark.createDataFrame(data=dept, schema = deptColumns)\n",
        "reviews_df.printSchema()\n",
        "reviews_df.show(truncate=False)\n",
        "\n"
      ],
      "metadata": {
        "colab": {
          "base_uri": "https://localhost:8080/"
        },
        "id": "GuTiVYyvvfmY",
        "outputId": "cca03550-3532-4898-e841-962ed621a3e1"
      },
      "execution_count": null,
      "outputs": [
        {
          "output_type": "stream",
          "name": "stdout",
          "text": [
            "root\n",
            " |-- Rating: string (nullable = true)\n",
            " |-- Paid: double (nullable = true)\n",
            " |-- Unpaid: double (nullable = true)\n",
            "\n",
            "+---------+-------------------+------------------+\n",
            "|Rating   |Paid               |Unpaid            |\n",
            "+---------+-------------------+------------------+\n",
            "|5-stars  |0.39770601555577434|0.2972980493951389|\n",
            "|4-5 stars|0.6285320468642316 |0.4342399943009034|\n",
            "|1-2 stars|0.16289258639362017|0.4652555466012458|\n",
            "+---------+-------------------+------------------+\n",
            "\n"
          ]
        }
      ]
    },
    {
      "cell_type": "code",
      "source": [
        "from pyspark.sql.functions import format_number\n",
        "from pyspark.sql.functions import concat,col,lit\n",
        "reviews_df.withColumn(\"Paid\",concat((col(\"Paid\") * 100).cast(\"int\"),lit('%')))\n",
        "reviews_df.withColumn(\"Unpais\",concat((col(\"Paid\") * 100).cast(\"int\"),lit('%'))).show()"
      ],
      "metadata": {
        "colab": {
          "base_uri": "https://localhost:8080/"
        },
        "id": "p7YMV3P3xO0Q",
        "outputId": "5078156c-ed1d-4c8d-e6c5-18b8dcb875ea"
      },
      "execution_count": null,
      "outputs": [
        {
          "output_type": "stream",
          "name": "stdout",
          "text": [
            "+-------------------+------------------------------------+\n",
            "|               Paid|concat(CAST((Paid * 100) AS INT), %)|\n",
            "+-------------------+------------------------------------+\n",
            "|0.39770601555577434|                                 39%|\n",
            "| 0.6285320468642316|                                 62%|\n",
            "|0.16289258639362017|                                 16%|\n",
            "+-------------------+------------------------------------+\n",
            "\n"
          ]
        }
      ]
    }
  ]
}